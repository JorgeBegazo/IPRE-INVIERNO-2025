{
 "cells": [
  {
   "cell_type": "code",
   "execution_count": 2,
   "id": "ceb71f53",
   "metadata": {},
   "outputs": [],
   "source": [
    "import numpy as np\n",
    "import matplotlib.pyplot as plt\n",
    "import math \n",
    "\n",
    "pi = np.pi\n",
    "\n",
    "def log(a):\n",
    "    r = np.log(a)\n",
    "    return r\n"
   ]
  },
  {
   "cell_type": "markdown",
   "id": "a2c0d922",
   "metadata": {},
   "source": [
    "$Da$"
   ]
  },
  {
   "cell_type": "code",
   "execution_count": null,
   "id": "49e232eb",
   "metadata": {},
   "outputs": [
    {
     "data": {
      "text/plain": [
       "1.0"
      ]
     },
     "execution_count": 5,
     "metadata": {},
     "output_type": "execute_result"
    }
   ],
   "source": []
  },
  {
   "cell_type": "markdown",
   "id": "326bfff3",
   "metadata": {},
   "source": []
  }
 ],
 "metadata": {
  "kernelspec": {
   "display_name": "base",
   "language": "python",
   "name": "python3"
  },
  "language_info": {
   "codemirror_mode": {
    "name": "ipython",
    "version": 3
   },
   "file_extension": ".py",
   "mimetype": "text/x-python",
   "name": "python",
   "nbconvert_exporter": "python",
   "pygments_lexer": "ipython3",
   "version": "3.12.4"
  }
 },
 "nbformat": 4,
 "nbformat_minor": 5
}
